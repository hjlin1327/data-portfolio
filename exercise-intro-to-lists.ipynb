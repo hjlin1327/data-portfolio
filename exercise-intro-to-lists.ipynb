{
 "cells": [
  {
   "cell_type": "markdown",
   "id": "b87934a8",
   "metadata": {
    "papermill": {
     "duration": 0.007731,
     "end_time": "2022-09-07T15:07:48.171724",
     "exception": false,
     "start_time": "2022-09-07T15:07:48.163993",
     "status": "completed"
    },
    "tags": []
   },
   "source": [
    "**This notebook is an exercise in the [Intro to Programming](https://www.kaggle.com/learn/intro-to-programming) course.  You can reference the tutorial at [this link](https://www.kaggle.com/alexisbcook/intro-to-lists).**\n",
    "\n",
    "---\n"
   ]
  },
  {
   "cell_type": "markdown",
   "id": "fdfccb9a",
   "metadata": {
    "papermill": {
     "duration": 0.005352,
     "end_time": "2022-09-07T15:07:48.182926",
     "exception": false,
     "start_time": "2022-09-07T15:07:48.177574",
     "status": "completed"
    },
    "tags": []
   },
   "source": [
    "In the tutorial, you learned how to define and modify Python lists.  In this exercise, you will use your new knowledge to solve several problems.\n",
    "\n",
    "# Set up the notebook\n",
    "\n",
    "Run the next code cell without changes to set up the notebook."
   ]
  },
  {
   "cell_type": "code",
   "execution_count": 1,
   "id": "151e1957",
   "metadata": {
    "execution": {
     "iopub.execute_input": "2022-09-07T15:07:48.196399Z",
     "iopub.status.busy": "2022-09-07T15:07:48.195603Z",
     "iopub.status.idle": "2022-09-07T15:07:48.249581Z",
     "shell.execute_reply": "2022-09-07T15:07:48.248751Z"
    },
    "papermill": {
     "duration": 0.063729,
     "end_time": "2022-09-07T15:07:48.252236",
     "exception": false,
     "start_time": "2022-09-07T15:07:48.188507",
     "status": "completed"
    },
    "tags": []
   },
   "outputs": [
    {
     "name": "stdout",
     "output_type": "stream",
     "text": [
      "Setup complete.\n"
     ]
    }
   ],
   "source": [
    "from learntools.core import binder\n",
    "binder.bind(globals())\n",
    "from learntools.intro_to_programming.ex5 import *\n",
    "print('Setup complete.')"
   ]
  },
  {
   "cell_type": "markdown",
   "id": "57769431",
   "metadata": {
    "papermill": {
     "duration": 0.005528,
     "end_time": "2022-09-07T15:07:48.264004",
     "exception": false,
     "start_time": "2022-09-07T15:07:48.258476",
     "status": "completed"
    },
    "tags": []
   },
   "source": [
    "# Question 1\n",
    "\n",
    "You own a restaurant with five food dishes, organized in the Python list `menu` below.  One day, you decide to:\n",
    "- remove bean soup (`'bean soup'`) from the menu, and\n",
    "- add roasted beet salad (`'roasted beet salad'`) to the menu.\n",
    "\n",
    "Implement this change to the list below.  While completing this task, \n",
    "- do not change the line that creates the `menu` list.  \n",
    "- your answer should use `.remove()` and `.append()`.  "
   ]
  },
  {
   "cell_type": "code",
   "execution_count": 2,
   "id": "6f8ea2c6",
   "metadata": {
    "execution": {
     "iopub.execute_input": "2022-09-07T15:07:48.277895Z",
     "iopub.status.busy": "2022-09-07T15:07:48.277124Z",
     "iopub.status.idle": "2022-09-07T15:07:48.287229Z",
     "shell.execute_reply": "2022-09-07T15:07:48.286382Z"
    },
    "papermill": {
     "duration": 0.019546,
     "end_time": "2022-09-07T15:07:48.289404",
     "exception": false,
     "start_time": "2022-09-07T15:07:48.269858",
     "status": "completed"
    },
    "tags": []
   },
   "outputs": [
    {
     "data": {
      "application/javascript": [
       "parent.postMessage({\"jupyterEvent\": \"custom.exercise_interaction\", \"data\": {\"outcomeType\": 2, \"failureMessage\": \"These item(s) should be removed from `menu`: ['bean soup']\", \"interactionType\": 1, \"questionType\": 2, \"questionId\": \"1_FoodMenu\", \"learnToolsVersion\": \"0.3.4\", \"valueTowardsCompletion\": 0.0, \"exceptionClass\": \"\", \"trace\": \"\"}}, \"*\")"
      ],
      "text/plain": [
       "<IPython.core.display.Javascript object>"
      ]
     },
     "metadata": {},
     "output_type": "display_data"
    },
    {
     "data": {
      "text/markdown": [
       "<span style=\"color:#cc3333\">Incorrect:</span> These item(s) should be removed from `menu`: ['bean soup']"
      ],
      "text/plain": [
       "Incorrect: These item(s) should be removed from `menu`: ['bean soup']"
      ]
     },
     "metadata": {},
     "output_type": "display_data"
    }
   ],
   "source": [
    "# Do not change: Initial menu for your restaurant\n",
    "menu = ['stewed meat with onions', 'bean soup', 'risotto with trout and shrimp',\n",
    "       'fish soup with cream and onion', 'gyro']\n",
    "\n",
    "# TODO: remove 'bean soup', and add 'roasted beet salad' to the end of the menu\n",
    "____\n",
    "\n",
    "# Do not change: Check your answer\n",
    "q1.check()"
   ]
  },
  {
   "cell_type": "code",
   "execution_count": 3,
   "id": "2f461952",
   "metadata": {
    "execution": {
     "iopub.execute_input": "2022-09-07T15:07:48.303862Z",
     "iopub.status.busy": "2022-09-07T15:07:48.303395Z",
     "iopub.status.idle": "2022-09-07T15:07:48.307386Z",
     "shell.execute_reply": "2022-09-07T15:07:48.306526Z"
    },
    "papermill": {
     "duration": 0.013684,
     "end_time": "2022-09-07T15:07:48.309453",
     "exception": false,
     "start_time": "2022-09-07T15:07:48.295769",
     "status": "completed"
    },
    "tags": []
   },
   "outputs": [],
   "source": [
    "# Uncomment to see a hint\n",
    "#q1.hint()\n",
    "\n",
    "# Uncomment to see the solution\n",
    "#q1.solution()"
   ]
  },
  {
   "cell_type": "markdown",
   "id": "4d98780f",
   "metadata": {
    "papermill": {
     "duration": 0.005776,
     "end_time": "2022-09-07T15:07:48.321461",
     "exception": false,
     "start_time": "2022-09-07T15:07:48.315685",
     "status": "completed"
    },
    "tags": []
   },
   "source": [
    "# Question 2\n",
    "\n",
    "The list `num_customers` contains the number of customers who came into your restaurant every day over the last month (which lasted thirty days).  Fill in values for each of the following:\n",
    "- `avg_first_seven` - average number of customers who visited in the first seven days\n",
    "- `avg_last_seven` - average number of customers who visited in the last seven days\n",
    "- `max_month` - number of customers on the day that got the most customers in the last month\n",
    "- `min_month` - number of customers on the day that got the least customers in the last month\n",
    "\n",
    "Answer this question by writing code.  For instance, if you have to find the minimum value in a list, use `min()` instead of scanning for the smallest value and directly filling in a number."
   ]
  },
  {
   "cell_type": "code",
   "execution_count": 4,
   "id": "1d2443f7",
   "metadata": {
    "execution": {
     "iopub.execute_input": "2022-09-07T15:07:48.335999Z",
     "iopub.status.busy": "2022-09-07T15:07:48.335194Z",
     "iopub.status.idle": "2022-09-07T15:07:48.345228Z",
     "shell.execute_reply": "2022-09-07T15:07:48.344324Z"
    },
    "papermill": {
     "duration": 0.019775,
     "end_time": "2022-09-07T15:07:48.347359",
     "exception": false,
     "start_time": "2022-09-07T15:07:48.327584",
     "status": "completed"
    },
    "tags": []
   },
   "outputs": [
    {
     "data": {
      "application/javascript": [
       "parent.postMessage({\"jupyterEvent\": \"custom.exercise_interaction\", \"data\": {\"outcomeType\": 4, \"interactionType\": 1, \"questionType\": 1, \"questionId\": \"2_NumCustomers\", \"learnToolsVersion\": \"0.3.4\", \"valueTowardsCompletion\": 0.0, \"failureMessage\": \"\", \"exceptionClass\": \"\", \"trace\": \"\"}}, \"*\")"
      ],
      "text/plain": [
       "<IPython.core.display.Javascript object>"
      ]
     },
     "metadata": {},
     "output_type": "display_data"
    },
    {
     "data": {
      "text/markdown": [
       "<span style=\"color:#ccaa33\">Check:</span> When you've updated the starter code, `check()` will tell you whether your code is correct. You need to update the code that creates variables `avg_first_seven`, `avg_last_seven`, `max_month`, `min_month`"
      ],
      "text/plain": [
       "Check: When you've updated the starter code, `check()` will tell you whether your code is correct. You need to update the code that creates variables `avg_first_seven`, `avg_last_seven`, `max_month`, `min_month`"
      ]
     },
     "metadata": {},
     "output_type": "display_data"
    }
   ],
   "source": [
    "# Do not change: Number of customers each day for the last month\n",
    "num_customers = [137, 147, 135, 128, 170, 174, 165, 146, 126, 159,\n",
    "                 141, 148, 132, 147, 168, 153, 170, 161, 148, 152,\n",
    "                 141, 151, 131, 149, 164, 163, 143, 143, 166, 171]\n",
    "\n",
    "# TODO: Fill in values for the variables below\n",
    "avg_first_seven = ____ \n",
    "avg_last_seven = ____ \n",
    "max_month = ____\n",
    "min_month = ____\n",
    "\n",
    "# Do not change: Check your answer\n",
    "q2.check()"
   ]
  },
  {
   "cell_type": "code",
   "execution_count": 5,
   "id": "fec9af03",
   "metadata": {
    "execution": {
     "iopub.execute_input": "2022-09-07T15:07:48.362302Z",
     "iopub.status.busy": "2022-09-07T15:07:48.361559Z",
     "iopub.status.idle": "2022-09-07T15:07:48.365591Z",
     "shell.execute_reply": "2022-09-07T15:07:48.364680Z"
    },
    "papermill": {
     "duration": 0.01393,
     "end_time": "2022-09-07T15:07:48.367741",
     "exception": false,
     "start_time": "2022-09-07T15:07:48.353811",
     "status": "completed"
    },
    "tags": []
   },
   "outputs": [],
   "source": [
    "# Uncomment to see a hint\n",
    "#q2.hint()\n",
    "\n",
    "# Uncomment to see the solution\n",
    "#q2.solution()"
   ]
  },
  {
   "cell_type": "markdown",
   "id": "c18aa672",
   "metadata": {
    "papermill": {
     "duration": 0.006097,
     "end_time": "2022-09-07T15:07:48.380405",
     "exception": false,
     "start_time": "2022-09-07T15:07:48.374308",
     "status": "completed"
    },
    "tags": []
   },
   "source": [
    "# Question 3\n",
    "\n",
    "In the tutorial, we gave an example of a Python string with information that was better as a list."
   ]
  },
  {
   "cell_type": "code",
   "execution_count": 6,
   "id": "0284b92f",
   "metadata": {
    "execution": {
     "iopub.execute_input": "2022-09-07T15:07:48.394991Z",
     "iopub.status.busy": "2022-09-07T15:07:48.394565Z",
     "iopub.status.idle": "2022-09-07T15:07:48.399052Z",
     "shell.execute_reply": "2022-09-07T15:07:48.398070Z"
    },
    "papermill": {
     "duration": 0.014447,
     "end_time": "2022-09-07T15:07:48.401214",
     "exception": false,
     "start_time": "2022-09-07T15:07:48.386767",
     "status": "completed"
    },
    "tags": []
   },
   "outputs": [],
   "source": [
    "flowers = \"pink primrose,hard-leaved pocket orchid,canterbury bells,sweet pea,english marigold,tiger lily,moon orchid,bird of paradise,monkshood,globe thistle\""
   ]
  },
  {
   "cell_type": "markdown",
   "id": "ff14e773",
   "metadata": {
    "papermill": {
     "duration": 0.006089,
     "end_time": "2022-09-07T15:07:48.413679",
     "exception": false,
     "start_time": "2022-09-07T15:07:48.407590",
     "status": "completed"
    },
    "tags": []
   },
   "source": [
    "You can actually use Python to quickly turn this string into a list with `.split()`.  In the parentheses, we need to provide the character should be used to mark the end of one list item and the beginning of another, and enclose it in quotation marks.  In this case, that character is a comma."
   ]
  },
  {
   "cell_type": "code",
   "execution_count": 7,
   "id": "fefe2c97",
   "metadata": {
    "execution": {
     "iopub.execute_input": "2022-09-07T15:07:48.429621Z",
     "iopub.status.busy": "2022-09-07T15:07:48.428829Z",
     "iopub.status.idle": "2022-09-07T15:07:48.434731Z",
     "shell.execute_reply": "2022-09-07T15:07:48.433343Z"
    },
    "papermill": {
     "duration": 0.01781,
     "end_time": "2022-09-07T15:07:48.437957",
     "exception": false,
     "start_time": "2022-09-07T15:07:48.420147",
     "status": "completed"
    },
    "tags": []
   },
   "outputs": [
    {
     "name": "stdout",
     "output_type": "stream",
     "text": [
      "['pink primrose', 'hard-leaved pocket orchid', 'canterbury bells', 'sweet pea', 'english marigold', 'tiger lily', 'moon orchid', 'bird of paradise', 'monkshood', 'globe thistle']\n"
     ]
    }
   ],
   "source": [
    " print(flowers.split(\",\"))"
   ]
  },
  {
   "cell_type": "markdown",
   "id": "2ae1ca36",
   "metadata": {
    "papermill": {
     "duration": 0.006282,
     "end_time": "2022-09-07T15:07:48.450905",
     "exception": false,
     "start_time": "2022-09-07T15:07:48.444623",
     "status": "completed"
    },
    "tags": []
   },
   "source": [
    "Now it is your turn to try this out!  Create two Python lists:\n",
    "- `letters` should be a Python list where each entry is an uppercase letter of the English alphabet.  For instance, the first two entries should be `\"A\"` and `\"B\"`, and the final two entries should be `\"Y\"` and `\"Z\"`.  Use the string `alphabet` to create this list.\n",
    "- `address` should be a Python list where each row in `address` is a different item in the list.  Currently, each row in `address` is separated by a comma. "
   ]
  },
  {
   "cell_type": "code",
   "execution_count": 8,
   "id": "f8bc15bb",
   "metadata": {
    "execution": {
     "iopub.execute_input": "2022-09-07T15:07:48.465903Z",
     "iopub.status.busy": "2022-09-07T15:07:48.465425Z",
     "iopub.status.idle": "2022-09-07T15:07:48.475267Z",
     "shell.execute_reply": "2022-09-07T15:07:48.474003Z"
    },
    "papermill": {
     "duration": 0.019998,
     "end_time": "2022-09-07T15:07:48.477388",
     "exception": false,
     "start_time": "2022-09-07T15:07:48.457390",
     "status": "completed"
    },
    "tags": []
   },
   "outputs": [
    {
     "data": {
      "application/javascript": [
       "parent.postMessage({\"jupyterEvent\": \"custom.exercise_interaction\", \"data\": {\"outcomeType\": 4, \"interactionType\": 1, \"questionType\": 1, \"questionId\": \"3_SplitString\", \"learnToolsVersion\": \"0.3.4\", \"valueTowardsCompletion\": 0.0, \"failureMessage\": \"\", \"exceptionClass\": \"\", \"trace\": \"\"}}, \"*\")"
      ],
      "text/plain": [
       "<IPython.core.display.Javascript object>"
      ]
     },
     "metadata": {},
     "output_type": "display_data"
    },
    {
     "data": {
      "text/markdown": [
       "<span style=\"color:#ccaa33\">Check:</span> When you've updated the starter code, `check()` will tell you whether your code is correct. You need to update the code that creates variables `letters`, `formatted_address`"
      ],
      "text/plain": [
       "Check: When you've updated the starter code, `check()` will tell you whether your code is correct. You need to update the code that creates variables `letters`, `formatted_address`"
      ]
     },
     "metadata": {},
     "output_type": "display_data"
    }
   ],
   "source": [
    "# DO not change: Define two Python strings\n",
    "alphabet = \"A.B.C.D.E.F.G.H.I.J.K.L.M.N.O.P.Q.R.S.T.U.V.W.X.Y.Z\"\n",
    "address = \"Mr. H. Potter,The cupboard under the Stairs,4 Privet Drive,Little Whinging,Surrey\"\n",
    "\n",
    "# TODO: Convert strings into Python lists\n",
    "letters = ____\n",
    "formatted_address = ____\n",
    "\n",
    "# Do not change: Check your answer\n",
    "q3.check()"
   ]
  },
  {
   "cell_type": "code",
   "execution_count": 9,
   "id": "80e73c48",
   "metadata": {
    "execution": {
     "iopub.execute_input": "2022-09-07T15:07:48.493173Z",
     "iopub.status.busy": "2022-09-07T15:07:48.492517Z",
     "iopub.status.idle": "2022-09-07T15:07:48.497123Z",
     "shell.execute_reply": "2022-09-07T15:07:48.496187Z"
    },
    "papermill": {
     "duration": 0.015242,
     "end_time": "2022-09-07T15:07:48.499440",
     "exception": false,
     "start_time": "2022-09-07T15:07:48.484198",
     "status": "completed"
    },
    "tags": []
   },
   "outputs": [],
   "source": [
    "# Uncomment to see a hint\n",
    "#q3.hint()\n",
    "\n",
    "# Uncomment to see the solution\n",
    "#q3.solution()"
   ]
  },
  {
   "cell_type": "markdown",
   "id": "4965dc50",
   "metadata": {
    "papermill": {
     "duration": 0.006708,
     "end_time": "2022-09-07T15:07:48.513459",
     "exception": false,
     "start_time": "2022-09-07T15:07:48.506751",
     "status": "completed"
    },
    "tags": []
   },
   "source": [
    "# Question 4\n",
    "\n",
    "In the Python course, you'll learn all about **list comprehensions**, which allow you to create a list based on the values in another list.  In this question, you'll get a brief preview of how they work.\n",
    "\n",
    "Say we're working with the list below."
   ]
  },
  {
   "cell_type": "code",
   "execution_count": 10,
   "id": "bf56861c",
   "metadata": {
    "execution": {
     "iopub.execute_input": "2022-09-07T15:07:48.529253Z",
     "iopub.status.busy": "2022-09-07T15:07:48.528584Z",
     "iopub.status.idle": "2022-09-07T15:07:48.534226Z",
     "shell.execute_reply": "2022-09-07T15:07:48.533188Z"
    },
    "papermill": {
     "duration": 0.016312,
     "end_time": "2022-09-07T15:07:48.536577",
     "exception": false,
     "start_time": "2022-09-07T15:07:48.520265",
     "status": "completed"
    },
    "tags": []
   },
   "outputs": [],
   "source": [
    "test_ratings = [1, 2, 3, 4, 5]"
   ]
  },
  {
   "cell_type": "markdown",
   "id": "a19ecfe8",
   "metadata": {
    "papermill": {
     "duration": 0.007334,
     "end_time": "2022-09-07T15:07:48.551163",
     "exception": false,
     "start_time": "2022-09-07T15:07:48.543829",
     "status": "completed"
    },
    "tags": []
   },
   "source": [
    "Then we can use this list (`test_ratings`) to create a new list (`test_liked`) where each item has been turned into a boolean, depending on whether or not the item is greater than or equal to four."
   ]
  },
  {
   "cell_type": "code",
   "execution_count": 11,
   "id": "e3ecad41",
   "metadata": {
    "execution": {
     "iopub.execute_input": "2022-09-07T15:07:48.568674Z",
     "iopub.status.busy": "2022-09-07T15:07:48.567970Z",
     "iopub.status.idle": "2022-09-07T15:07:48.574361Z",
     "shell.execute_reply": "2022-09-07T15:07:48.572963Z"
    },
    "papermill": {
     "duration": 0.017845,
     "end_time": "2022-09-07T15:07:48.576500",
     "exception": false,
     "start_time": "2022-09-07T15:07:48.558655",
     "status": "completed"
    },
    "tags": []
   },
   "outputs": [
    {
     "name": "stdout",
     "output_type": "stream",
     "text": [
      "[False, False, False, True, True]\n"
     ]
    }
   ],
   "source": [
    "test_liked = [i>=4 for i in test_ratings]\n",
    "print(test_liked)"
   ]
  },
  {
   "cell_type": "markdown",
   "id": "33843e46",
   "metadata": {
    "papermill": {
     "duration": 0.006863,
     "end_time": "2022-09-07T15:07:48.590370",
     "exception": false,
     "start_time": "2022-09-07T15:07:48.583507",
     "status": "completed"
    },
    "tags": []
   },
   "source": [
    "In this question, you'll use this list comprehension to define a function `percentage_liked()` that takes one argument as input:\n",
    "- `ratings`: list of ratings that people gave to a movie, where each rating is a number between 1-5, inclusive\n",
    "\n",
    "We say someone liked the movie, if they gave a rating of either 4 or 5.  Your function should return the percentage of people who liked the movie.\n",
    "\n",
    "For instance, if we supply a value of `[1, 2, 3, 4, 5, 4, 5, 1]`, then 50% (4/8) of the people liked the movie, and the function should return `0.5`.\n",
    "\n",
    "Part of the function has already been completed for you.  You need only use `list_liked` to calculate `percentage_liked`."
   ]
  },
  {
   "cell_type": "code",
   "execution_count": 12,
   "id": "bfb93631",
   "metadata": {
    "execution": {
     "iopub.execute_input": "2022-09-07T15:07:48.606606Z",
     "iopub.status.busy": "2022-09-07T15:07:48.605939Z",
     "iopub.status.idle": "2022-09-07T15:07:48.616160Z",
     "shell.execute_reply": "2022-09-07T15:07:48.615223Z"
    },
    "papermill": {
     "duration": 0.020891,
     "end_time": "2022-09-07T15:07:48.618330",
     "exception": false,
     "start_time": "2022-09-07T15:07:48.597439",
     "status": "completed"
    },
    "tags": []
   },
   "outputs": [
    {
     "data": {
      "application/javascript": [
       "parent.postMessage({\"jupyterEvent\": \"custom.exercise_interaction\", \"data\": {\"outcomeType\": 2, \"failureMessage\": \"Expected return value of `0.5` given `ratings=[1, 2, 3, 4, 5, 4, 5, 1]`, but got `<learntools.core.constants.PlaceholderValue object at 0x7fa9b217f490>` instead.\", \"interactionType\": 1, \"questionType\": 2, \"questionId\": \"4_PercentageLiked\", \"learnToolsVersion\": \"0.3.4\", \"valueTowardsCompletion\": 0.0, \"exceptionClass\": \"\", \"trace\": \"\"}}, \"*\")"
      ],
      "text/plain": [
       "<IPython.core.display.Javascript object>"
      ]
     },
     "metadata": {},
     "output_type": "display_data"
    },
    {
     "data": {
      "text/markdown": [
       "<span style=\"color:#cc3333\">Incorrect:</span> Expected return value of `0.5` given `ratings=[1, 2, 3, 4, 5, 4, 5, 1]`, but got `<learntools.core.constants.PlaceholderValue object at 0x7fa9b217f490>` instead."
      ],
      "text/plain": [
       "Incorrect: Expected return value of `0.5` given `ratings=[1, 2, 3, 4, 5, 4, 5, 1]`, but got `<learntools.core.constants.PlaceholderValue object at 0x7fa9b217f490>` instead."
      ]
     },
     "metadata": {},
     "output_type": "display_data"
    }
   ],
   "source": [
    "\n",
    "def percentage_liked(ratings):\n",
    "    list_liked = [i>=4 for i in ratings]\n",
    "    # TODO: Complete the function\n",
    "    percentage_liked = ____\n",
    "    return percentage_liked\n",
    "\n",
    "# Do not change: should return 0.5\n",
    "percentage_liked([1, 2, 3, 4, 5, 4, 5, 1])\n",
    "\n",
    "# Do not change: Check your answer\n",
    "q4.check()"
   ]
  },
  {
   "cell_type": "code",
   "execution_count": 13,
   "id": "b1c5d642",
   "metadata": {
    "execution": {
     "iopub.execute_input": "2022-09-07T15:07:48.635750Z",
     "iopub.status.busy": "2022-09-07T15:07:48.635028Z",
     "iopub.status.idle": "2022-09-07T15:07:48.639652Z",
     "shell.execute_reply": "2022-09-07T15:07:48.638822Z"
    },
    "papermill": {
     "duration": 0.016255,
     "end_time": "2022-09-07T15:07:48.641869",
     "exception": false,
     "start_time": "2022-09-07T15:07:48.625614",
     "status": "completed"
    },
    "tags": []
   },
   "outputs": [],
   "source": [
    "# Uncomment to see a hint\n",
    "#q4.hint()\n",
    "\n",
    "# Uncomment to see the solution\n",
    "#q4.solution()"
   ]
  },
  {
   "cell_type": "markdown",
   "id": "a8629d42",
   "metadata": {
    "papermill": {
     "duration": 0.007049,
     "end_time": "2022-09-07T15:07:48.656234",
     "exception": false,
     "start_time": "2022-09-07T15:07:48.649185",
     "status": "completed"
    },
    "tags": []
   },
   "source": [
    "# 🌶️ Question 5\n",
    " \n",
    "Say you're doing analytics for a website.  You need to write a function that returns the percentage growth in the total number of users relative to a specified number of years ago.\n",
    "\n",
    "Your function `percentage_growth()` should take two arguments as input:\n",
    "- `num_users` = Python list with the total number of users each year.  So `num_users[0]` is the total number of users in the first year, `num_users[1]` is the total number of users in the second year, and so on.  The final entry in the list gives the total number of users in the most recently completed year.\n",
    "- `yrs_ago` = number of years to go back in time when calculating the growth percentage\n",
    "\n",
    "For instance, say `num_users = [920344, 1043553, 1204334, 1458996, 1503323, 1593432, 1623463, 1843064, 1930992, 2001078]`.\n",
    "- if `yrs_ago = 1`, we want the function to return a value of about `0.036`. This corresponds to a percentage growth of approximately 3.6%, calculated as (2001078 - 1930992)/1930992.\n",
    "- if `years_ago = 7`, we would want to return approximately `0.66`.  This corresponds to a percentage growth of approximately 66%, calculated as (2001078 - 1204334)/1204334.\n",
    "\n",
    "Your coworker sent you a draft of a function, but it doesn't seem to be doing the correct calculation.  Can you figure out what has gone wrong and make the needed changes?"
   ]
  },
  {
   "cell_type": "code",
   "execution_count": 14,
   "id": "1199fedf",
   "metadata": {
    "execution": {
     "iopub.execute_input": "2022-09-07T15:07:48.673729Z",
     "iopub.status.busy": "2022-09-07T15:07:48.673032Z",
     "iopub.status.idle": "2022-09-07T15:07:48.686109Z",
     "shell.execute_reply": "2022-09-07T15:07:48.685036Z"
    },
    "papermill": {
     "duration": 0.024272,
     "end_time": "2022-09-07T15:07:48.688266",
     "exception": false,
     "start_time": "2022-09-07T15:07:48.663994",
     "status": "completed"
    },
    "tags": []
   },
   "outputs": [
    {
     "name": "stdout",
     "output_type": "stream",
     "text": [
      "0.0\n",
      "0.2807272117129434\n"
     ]
    },
    {
     "data": {
      "application/javascript": [
       "parent.postMessage({\"jupyterEvent\": \"custom.exercise_interaction\", \"data\": {\"outcomeType\": 2, \"failureMessage\": \"Expected return value of `0.03629533421163837` given `num_users=[920344, 1043553, 1204334, 1458996, 1503323, 1593432, 1623463, 1843064, 1930992, 2001078]`, `yrs_ago=1`, but got `0.0` instead.\", \"interactionType\": 1, \"questionType\": 2, \"questionId\": \"5_WebsiteAnalytics\", \"learnToolsVersion\": \"0.3.4\", \"valueTowardsCompletion\": 0.0, \"exceptionClass\": \"\", \"trace\": \"\"}}, \"*\")"
      ],
      "text/plain": [
       "<IPython.core.display.Javascript object>"
      ]
     },
     "metadata": {},
     "output_type": "display_data"
    },
    {
     "data": {
      "text/markdown": [
       "<span style=\"color:#cc3333\">Incorrect:</span> Expected return value of `0.03629533421163837` given `num_users=[920344, 1043553, 1204334, 1458996, 1503323, 1593432, 1623463, 1843064, 1930992, 2001078]`, `yrs_ago=1`, but got `0.0` instead."
      ],
      "text/plain": [
       "Incorrect: Expected return value of `0.03629533421163837` given `num_users=[920344, 1043553, 1204334, 1458996, 1503323, 1593432, 1623463, 1843064, 1930992, 2001078]`, `yrs_ago=1`, but got `0.0` instead."
      ]
     },
     "metadata": {},
     "output_type": "display_data"
    }
   ],
   "source": [
    "# TODO: Edit the function\n",
    "def percentage_growth(num_users, yrs_ago):\n",
    "    growth = (num_users[len(num_users)-1] - num_users[len(num_users)-yrs_ago])/num_users[len(num_users)-2]\n",
    "    return growth\n",
    "\n",
    "# Do not change: Variable for calculating some test examples\n",
    "num_users_test = [920344, 1043553, 1204334, 1458996, 1503323, 1593432, 1623463, 1843064, 1930992, 2001078]\n",
    "\n",
    "# Do not change: Should return .036\n",
    "print(percentage_growth(num_users_test, 1))\n",
    "\n",
    "# Do not change: Should return 0.66\n",
    "print(percentage_growth(num_users_test, 7))\n",
    "\n",
    "# Do not change: Check your answer\n",
    "q5.check()"
   ]
  },
  {
   "cell_type": "code",
   "execution_count": 15,
   "id": "90cc3121",
   "metadata": {
    "execution": {
     "iopub.execute_input": "2022-09-07T15:07:48.706438Z",
     "iopub.status.busy": "2022-09-07T15:07:48.705734Z",
     "iopub.status.idle": "2022-09-07T15:07:48.710911Z",
     "shell.execute_reply": "2022-09-07T15:07:48.710043Z"
    },
    "papermill": {
     "duration": 0.016734,
     "end_time": "2022-09-07T15:07:48.713130",
     "exception": false,
     "start_time": "2022-09-07T15:07:48.696396",
     "status": "completed"
    },
    "tags": []
   },
   "outputs": [],
   "source": [
    "# Uncomment to see a hint\n",
    "#q5.hint()\n",
    "\n",
    "# Uncomment to see the solution\n",
    "#q5.solution()"
   ]
  },
  {
   "cell_type": "markdown",
   "id": "202efc65",
   "metadata": {
    "papermill": {
     "duration": 0.007419,
     "end_time": "2022-09-07T15:07:48.728458",
     "exception": false,
     "start_time": "2022-09-07T15:07:48.721039",
     "status": "completed"
    },
    "tags": []
   },
   "source": [
    "# Congratulations!\n",
    "\n",
    "Congratulations for finishing the Intro to Programming course!  You should be proud of your very first steps with learning programming.  As next steps, we recommend taking:\n",
    "- the **[Python course](http://www.kaggle.com/learn/python)**, and \n",
    "- the **[Intro to Machine Learning course](https://www.kaggle.com/learn/intro-to-machine-learning)**."
   ]
  },
  {
   "cell_type": "markdown",
   "id": "ee3774c2",
   "metadata": {
    "papermill": {
     "duration": 0.007439,
     "end_time": "2022-09-07T15:07:48.743794",
     "exception": false,
     "start_time": "2022-09-07T15:07:48.736355",
     "status": "completed"
    },
    "tags": []
   },
   "source": [
    "---\n",
    "\n",
    "\n",
    "\n",
    "\n",
    "*Have questions or comments? Visit the [course discussion forum](https://www.kaggle.com/learn/intro-to-programming/discussion) to chat with other learners.*"
   ]
  }
 ],
 "metadata": {
  "kernelspec": {
   "display_name": "Python 3",
   "language": "python",
   "name": "python3"
  },
  "language_info": {
   "codemirror_mode": {
    "name": "ipython",
    "version": 3
   },
   "file_extension": ".py",
   "mimetype": "text/x-python",
   "name": "python",
   "nbconvert_exporter": "python",
   "pygments_lexer": "ipython3",
   "version": "3.7.12"
  },
  "papermill": {
   "default_parameters": {},
   "duration": 10.37418,
   "end_time": "2022-09-07T15:07:49.374591",
   "environment_variables": {},
   "exception": null,
   "input_path": "__notebook__.ipynb",
   "output_path": "__notebook__.ipynb",
   "parameters": {},
   "start_time": "2022-09-07T15:07:39.000411",
   "version": "2.3.4"
  }
 },
 "nbformat": 4,
 "nbformat_minor": 5
}
