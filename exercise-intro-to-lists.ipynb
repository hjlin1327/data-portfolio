{
 "cells": [
  {
   "cell_type": "markdown",
   "id": "7a2623f2",
   "metadata": {
    "papermill": {
     "duration": 0.008474,
     "end_time": "2022-09-07T15:46:05.057950",
     "exception": false,
     "start_time": "2022-09-07T15:46:05.049476",
     "status": "completed"
    },
    "tags": []
   },
   "source": [
    "**This notebook is an exercise in the [Intro to Programming](https://www.kaggle.com/learn/intro-to-programming) course.  You can reference the tutorial at [this link](https://www.kaggle.com/alexisbcook/intro-to-lists).**\n",
    "\n",
    "---\n"
   ]
  },
  {
   "cell_type": "markdown",
   "id": "4ca7352d",
   "metadata": {
    "papermill": {
     "duration": 0.006067,
     "end_time": "2022-09-07T15:46:05.070694",
     "exception": false,
     "start_time": "2022-09-07T15:46:05.064627",
     "status": "completed"
    },
    "tags": []
   },
   "source": [
    "In the tutorial, you learned how to define and modify Python lists.  In this exercise, you will use your new knowledge to solve several problems.\n",
    "\n",
    "# Set up the notebook\n",
    "\n",
    "Run the next code cell without changes to set up the notebook."
   ]
  },
  {
   "cell_type": "code",
   "execution_count": 1,
   "id": "325d015e",
   "metadata": {
    "execution": {
     "iopub.execute_input": "2022-09-07T15:46:05.087523Z",
     "iopub.status.busy": "2022-09-07T15:46:05.086523Z",
     "iopub.status.idle": "2022-09-07T15:46:05.144862Z",
     "shell.execute_reply": "2022-09-07T15:46:05.144043Z"
    },
    "papermill": {
     "duration": 0.070485,
     "end_time": "2022-09-07T15:46:05.147423",
     "exception": false,
     "start_time": "2022-09-07T15:46:05.076938",
     "status": "completed"
    },
    "tags": []
   },
   "outputs": [
    {
     "name": "stdout",
     "output_type": "stream",
     "text": [
      "Setup complete.\n"
     ]
    }
   ],
   "source": [
    "from learntools.core import binder\n",
    "binder.bind(globals())\n",
    "from learntools.intro_to_programming.ex5 import *\n",
    "print('Setup complete.')"
   ]
  },
  {
   "cell_type": "markdown",
   "id": "767b2699",
   "metadata": {
    "papermill": {
     "duration": 0.006183,
     "end_time": "2022-09-07T15:46:05.160544",
     "exception": false,
     "start_time": "2022-09-07T15:46:05.154361",
     "status": "completed"
    },
    "tags": []
   },
   "source": [
    "# Question 1\n",
    "\n",
    "You own a restaurant with five food dishes, organized in the Python list `menu` below.  One day, you decide to:\n",
    "- remove bean soup (`'bean soup'`) from the menu, and\n",
    "- add roasted beet salad (`'roasted beet salad'`) to the menu.\n",
    "\n",
    "Implement this change to the list below.  While completing this task, \n",
    "- do not change the line that creates the `menu` list.  \n",
    "- your answer should use `.remove()` and `.append()`.  "
   ]
  },
  {
   "cell_type": "code",
   "execution_count": 2,
   "id": "b10a5062",
   "metadata": {
    "execution": {
     "iopub.execute_input": "2022-09-07T15:46:05.175684Z",
     "iopub.status.busy": "2022-09-07T15:46:05.174690Z",
     "iopub.status.idle": "2022-09-07T15:46:05.187418Z",
     "shell.execute_reply": "2022-09-07T15:46:05.186197Z"
    },
    "papermill": {
     "duration": 0.023159,
     "end_time": "2022-09-07T15:46:05.190319",
     "exception": false,
     "start_time": "2022-09-07T15:46:05.167160",
     "status": "completed"
    },
    "tags": []
   },
   "outputs": [
    {
     "data": {
      "application/javascript": [
       "parent.postMessage({\"jupyterEvent\": \"custom.exercise_interaction\", \"data\": {\"outcomeType\": 1, \"valueTowardsCompletion\": 0.2, \"interactionType\": 1, \"questionType\": 2, \"questionId\": \"1_FoodMenu\", \"learnToolsVersion\": \"0.3.4\", \"failureMessage\": \"\", \"exceptionClass\": \"\", \"trace\": \"\"}}, \"*\")"
      ],
      "text/plain": [
       "<IPython.core.display.Javascript object>"
      ]
     },
     "metadata": {},
     "output_type": "display_data"
    },
    {
     "data": {
      "text/markdown": [
       "<span style=\"color:#33cc33\">Correct</span>"
      ],
      "text/plain": [
       "Correct"
      ]
     },
     "metadata": {},
     "output_type": "display_data"
    }
   ],
   "source": [
    "# Do not change: Initial menu for your restaurant\n",
    "menu = ['stewed meat with onions', 'bean soup', 'risotto with trout and shrimp',\n",
    "       'fish soup with cream and onion', 'gyro']\n",
    "menu.append('roasted beet salad')\n",
    "menu.remove('bean soup')\n",
    "\n",
    "# TODO: remove 'bean soup', and add 'roasted beet salad' to the end of the menu\n",
    "____\n",
    "\n",
    "# Do not change: Check your answer\n",
    "q1.check()"
   ]
  },
  {
   "cell_type": "code",
   "execution_count": 3,
   "id": "2efdc4fb",
   "metadata": {
    "execution": {
     "iopub.execute_input": "2022-09-07T15:46:05.205690Z",
     "iopub.status.busy": "2022-09-07T15:46:05.204933Z",
     "iopub.status.idle": "2022-09-07T15:46:05.209724Z",
     "shell.execute_reply": "2022-09-07T15:46:05.208860Z"
    },
    "papermill": {
     "duration": 0.015163,
     "end_time": "2022-09-07T15:46:05.212199",
     "exception": false,
     "start_time": "2022-09-07T15:46:05.197036",
     "status": "completed"
    },
    "tags": []
   },
   "outputs": [],
   "source": [
    "# Uncomment to see a hint\n",
    "#q1.hint()\n",
    "\n",
    "# Uncomment to see the solution\n",
    "#q1.solution()"
   ]
  },
  {
   "cell_type": "markdown",
   "id": "9923d57e",
   "metadata": {
    "papermill": {
     "duration": 0.006236,
     "end_time": "2022-09-07T15:46:05.225365",
     "exception": false,
     "start_time": "2022-09-07T15:46:05.219129",
     "status": "completed"
    },
    "tags": []
   },
   "source": [
    "# Question 2\n",
    "\n",
    "The list `num_customers` contains the number of customers who came into your restaurant every day over the last month (which lasted thirty days).  Fill in values for each of the following:\n",
    "- `avg_first_seven` - average number of customers who visited in the first seven days\n",
    "- `avg_last_seven` - average number of customers who visited in the last seven days\n",
    "- `max_month` - number of customers on the day that got the most customers in the last month\n",
    "- `min_month` - number of customers on the day that got the least customers in the last month\n",
    "\n",
    "Answer this question by writing code.  For instance, if you have to find the minimum value in a list, use `min()` instead of scanning for the smallest value and directly filling in a number."
   ]
  },
  {
   "cell_type": "code",
   "execution_count": 4,
   "id": "a68a6518",
   "metadata": {
    "execution": {
     "iopub.execute_input": "2022-09-07T15:46:05.241020Z",
     "iopub.status.busy": "2022-09-07T15:46:05.240266Z",
     "iopub.status.idle": "2022-09-07T15:46:05.251951Z",
     "shell.execute_reply": "2022-09-07T15:46:05.251112Z"
    },
    "papermill": {
     "duration": 0.022318,
     "end_time": "2022-09-07T15:46:05.254177",
     "exception": false,
     "start_time": "2022-09-07T15:46:05.231859",
     "status": "completed"
    },
    "tags": []
   },
   "outputs": [
    {
     "data": {
      "application/javascript": [
       "parent.postMessage({\"jupyterEvent\": \"custom.exercise_interaction\", \"data\": {\"outcomeType\": 1, \"valueTowardsCompletion\": 0.2, \"interactionType\": 1, \"questionType\": 1, \"questionId\": \"2_NumCustomers\", \"learnToolsVersion\": \"0.3.4\", \"failureMessage\": \"\", \"exceptionClass\": \"\", \"trace\": \"\"}}, \"*\")"
      ],
      "text/plain": [
       "<IPython.core.display.Javascript object>"
      ]
     },
     "metadata": {},
     "output_type": "display_data"
    },
    {
     "data": {
      "text/markdown": [
       "<span style=\"color:#33cc33\">Correct</span>"
      ],
      "text/plain": [
       "Correct"
      ]
     },
     "metadata": {},
     "output_type": "display_data"
    }
   ],
   "source": [
    "# Do not change: Number of customers each day for the last month\n",
    "num_customers = [137, 147, 135, 128, 170, 174, 165, 146, 126, 159,\n",
    "                 141, 148, 132, 147, 168, 153, 170, 161, 148, 152,\n",
    "                 141, 151, 131, 149, 164, 163, 143, 143, 166, 171]\n",
    "\n",
    "# TODO: Fill in values for the variables below\n",
    "avg_first_seven = sum(num_customers[:7])/7\n",
    "avg_last_seven = sum(num_customers[-7:])/7\n",
    "max_month = max(num_customers)\n",
    "min_month = min(num_customers)\n",
    "\n",
    "# Do not change: Check your answer\n",
    "q2.check()"
   ]
  },
  {
   "cell_type": "code",
   "execution_count": 5,
   "id": "316b43d8",
   "metadata": {
    "execution": {
     "iopub.execute_input": "2022-09-07T15:46:05.270819Z",
     "iopub.status.busy": "2022-09-07T15:46:05.270019Z",
     "iopub.status.idle": "2022-09-07T15:46:05.274785Z",
     "shell.execute_reply": "2022-09-07T15:46:05.274042Z"
    },
    "papermill": {
     "duration": 0.016539,
     "end_time": "2022-09-07T15:46:05.277370",
     "exception": false,
     "start_time": "2022-09-07T15:46:05.260831",
     "status": "completed"
    },
    "tags": []
   },
   "outputs": [],
   "source": [
    "# Uncomment to see a hint\n",
    "#q2.hint()\n",
    "\n",
    "# Uncomment to see the solution\n",
    "#q2.solution()"
   ]
  },
  {
   "cell_type": "markdown",
   "id": "5212f89a",
   "metadata": {
    "papermill": {
     "duration": 0.006906,
     "end_time": "2022-09-07T15:46:05.291240",
     "exception": false,
     "start_time": "2022-09-07T15:46:05.284334",
     "status": "completed"
    },
    "tags": []
   },
   "source": [
    "# Question 3\n",
    "\n",
    "In the tutorial, we gave an example of a Python string with information that was better as a list."
   ]
  },
  {
   "cell_type": "code",
   "execution_count": 6,
   "id": "658e5441",
   "metadata": {
    "execution": {
     "iopub.execute_input": "2022-09-07T15:46:05.307873Z",
     "iopub.status.busy": "2022-09-07T15:46:05.307076Z",
     "iopub.status.idle": "2022-09-07T15:46:05.312273Z",
     "shell.execute_reply": "2022-09-07T15:46:05.311390Z"
    },
    "papermill": {
     "duration": 0.015789,
     "end_time": "2022-09-07T15:46:05.314306",
     "exception": false,
     "start_time": "2022-09-07T15:46:05.298517",
     "status": "completed"
    },
    "tags": []
   },
   "outputs": [],
   "source": [
    "flowers = \"pink primrose,hard-leaved pocket orchid,canterbury bells,sweet pea,english marigold,tiger lily,moon orchid,bird of paradise,monkshood,globe thistle\""
   ]
  },
  {
   "cell_type": "markdown",
   "id": "5a5b556f",
   "metadata": {
    "papermill": {
     "duration": 0.006585,
     "end_time": "2022-09-07T15:46:05.327943",
     "exception": false,
     "start_time": "2022-09-07T15:46:05.321358",
     "status": "completed"
    },
    "tags": []
   },
   "source": [
    "You can actually use Python to quickly turn this string into a list with `.split()`.  In the parentheses, we need to provide the character should be used to mark the end of one list item and the beginning of another, and enclose it in quotation marks.  In this case, that character is a comma."
   ]
  },
  {
   "cell_type": "code",
   "execution_count": 7,
   "id": "67976810",
   "metadata": {
    "execution": {
     "iopub.execute_input": "2022-09-07T15:46:05.344845Z",
     "iopub.status.busy": "2022-09-07T15:46:05.344132Z",
     "iopub.status.idle": "2022-09-07T15:46:05.349469Z",
     "shell.execute_reply": "2022-09-07T15:46:05.348389Z"
    },
    "papermill": {
     "duration": 0.016648,
     "end_time": "2022-09-07T15:46:05.351455",
     "exception": false,
     "start_time": "2022-09-07T15:46:05.334807",
     "status": "completed"
    },
    "tags": []
   },
   "outputs": [
    {
     "name": "stdout",
     "output_type": "stream",
     "text": [
      "['pink primrose', 'hard-leaved pocket orchid', 'canterbury bells', 'sweet pea', 'english marigold', 'tiger lily', 'moon orchid', 'bird of paradise', 'monkshood', 'globe thistle']\n"
     ]
    }
   ],
   "source": [
    " print(flowers.split(\",\"))"
   ]
  },
  {
   "cell_type": "markdown",
   "id": "46d411df",
   "metadata": {
    "papermill": {
     "duration": 0.006575,
     "end_time": "2022-09-07T15:46:05.365002",
     "exception": false,
     "start_time": "2022-09-07T15:46:05.358427",
     "status": "completed"
    },
    "tags": []
   },
   "source": [
    "Now it is your turn to try this out!  Create two Python lists:\n",
    "- `letters` should be a Python list where each entry is an uppercase letter of the English alphabet.  For instance, the first two entries should be `\"A\"` and `\"B\"`, and the final two entries should be `\"Y\"` and `\"Z\"`.  Use the string `alphabet` to create this list.\n",
    "- `address` should be a Python list where each row in `address` is a different item in the list.  Currently, each row in `address` is separated by a comma. "
   ]
  },
  {
   "cell_type": "code",
   "execution_count": 8,
   "id": "02a09e1d",
   "metadata": {
    "execution": {
     "iopub.execute_input": "2022-09-07T15:46:05.381254Z",
     "iopub.status.busy": "2022-09-07T15:46:05.380824Z",
     "iopub.status.idle": "2022-09-07T15:46:05.393804Z",
     "shell.execute_reply": "2022-09-07T15:46:05.392642Z"
    },
    "papermill": {
     "duration": 0.023826,
     "end_time": "2022-09-07T15:46:05.396050",
     "exception": false,
     "start_time": "2022-09-07T15:46:05.372224",
     "status": "completed"
    },
    "tags": []
   },
   "outputs": [
    {
     "data": {
      "application/javascript": [
       "parent.postMessage({\"jupyterEvent\": \"custom.exercise_interaction\", \"data\": {\"outcomeType\": 1, \"valueTowardsCompletion\": 0.2, \"interactionType\": 1, \"questionType\": 1, \"questionId\": \"3_SplitString\", \"learnToolsVersion\": \"0.3.4\", \"failureMessage\": \"\", \"exceptionClass\": \"\", \"trace\": \"\"}}, \"*\")"
      ],
      "text/plain": [
       "<IPython.core.display.Javascript object>"
      ]
     },
     "metadata": {},
     "output_type": "display_data"
    },
    {
     "data": {
      "text/markdown": [
       "<span style=\"color:#33cc33\">Correct</span>"
      ],
      "text/plain": [
       "Correct"
      ]
     },
     "metadata": {},
     "output_type": "display_data"
    },
    {
     "name": "stdout",
     "output_type": "stream",
     "text": [
      "['A', 'B', 'C', 'D', 'E', 'F', 'G', 'H', 'I', 'J', 'K', 'L', 'M', 'N', 'O', 'P', 'Q', 'R', 'S', 'T', 'U', 'V', 'W', 'X', 'Y', 'Z']\n"
     ]
    },
    {
     "data": {
      "text/plain": [
       "['Mr. H. Potter',\n",
       " 'The cupboard under the Stairs',\n",
       " '4 Privet Drive',\n",
       " 'Little Whinging',\n",
       " 'Surrey']"
      ]
     },
     "execution_count": 8,
     "metadata": {},
     "output_type": "execute_result"
    }
   ],
   "source": [
    "# DO not change: Define two Python strings\n",
    "alphabet = \"A.B.C.D.E.F.G.H.I.J.K.L.M.N.O.P.Q.R.S.T.U.V.W.X.Y.Z\"\n",
    "address = \"Mr. H. Potter,The cupboard under the Stairs,4 Privet Drive,Little Whinging,Surrey\"\n",
    "\n",
    "# TODO: Convert strings into Python lists\n",
    "letters = alphabet.split('.')\n",
    "formatted_address = address.split(',')\n",
    "\n",
    "# Do not change: Check your answer\n",
    "q3.check()\n",
    "\n",
    "print(letters)\n",
    "formatted_address"
   ]
  },
  {
   "cell_type": "code",
   "execution_count": 9,
   "id": "3e22bbb5",
   "metadata": {
    "execution": {
     "iopub.execute_input": "2022-09-07T15:46:05.413350Z",
     "iopub.status.busy": "2022-09-07T15:46:05.412500Z",
     "iopub.status.idle": "2022-09-07T15:46:05.417474Z",
     "shell.execute_reply": "2022-09-07T15:46:05.416414Z"
    },
    "papermill": {
     "duration": 0.016467,
     "end_time": "2022-09-07T15:46:05.419929",
     "exception": false,
     "start_time": "2022-09-07T15:46:05.403462",
     "status": "completed"
    },
    "tags": []
   },
   "outputs": [],
   "source": [
    "# Uncomment to see a hint\n",
    "#q3.hint()\n",
    "\n",
    "# Uncomment to see the solution\n",
    "#q3.solution()"
   ]
  },
  {
   "cell_type": "markdown",
   "id": "7055ba93",
   "metadata": {
    "papermill": {
     "duration": 0.007111,
     "end_time": "2022-09-07T15:46:05.434652",
     "exception": false,
     "start_time": "2022-09-07T15:46:05.427541",
     "status": "completed"
    },
    "tags": []
   },
   "source": [
    "# Question 4\n",
    "\n",
    "In the Python course, you'll learn all about **list comprehensions**, which allow you to create a list based on the values in another list.  In this question, you'll get a brief preview of how they work.\n",
    "\n",
    "Say we're working with the list below."
   ]
  },
  {
   "cell_type": "code",
   "execution_count": 10,
   "id": "ae80b530",
   "metadata": {
    "execution": {
     "iopub.execute_input": "2022-09-07T15:46:05.451759Z",
     "iopub.status.busy": "2022-09-07T15:46:05.451377Z",
     "iopub.status.idle": "2022-09-07T15:46:05.455584Z",
     "shell.execute_reply": "2022-09-07T15:46:05.454726Z"
    },
    "papermill": {
     "duration": 0.014985,
     "end_time": "2022-09-07T15:46:05.457553",
     "exception": false,
     "start_time": "2022-09-07T15:46:05.442568",
     "status": "completed"
    },
    "tags": []
   },
   "outputs": [],
   "source": [
    "test_ratings = [1, 2, 3, 4, 5]"
   ]
  },
  {
   "cell_type": "markdown",
   "id": "936fd5d3",
   "metadata": {
    "papermill": {
     "duration": 0.007182,
     "end_time": "2022-09-07T15:46:05.472127",
     "exception": false,
     "start_time": "2022-09-07T15:46:05.464945",
     "status": "completed"
    },
    "tags": []
   },
   "source": [
    "Then we can use this list (`test_ratings`) to create a new list (`test_liked`) where each item has been turned into a boolean, depending on whether or not the item is greater than or equal to four."
   ]
  },
  {
   "cell_type": "code",
   "execution_count": 11,
   "id": "df529fcd",
   "metadata": {
    "execution": {
     "iopub.execute_input": "2022-09-07T15:46:05.489741Z",
     "iopub.status.busy": "2022-09-07T15:46:05.488643Z",
     "iopub.status.idle": "2022-09-07T15:46:05.494888Z",
     "shell.execute_reply": "2022-09-07T15:46:05.493702Z"
    },
    "papermill": {
     "duration": 0.017605,
     "end_time": "2022-09-07T15:46:05.497641",
     "exception": false,
     "start_time": "2022-09-07T15:46:05.480036",
     "status": "completed"
    },
    "tags": []
   },
   "outputs": [
    {
     "name": "stdout",
     "output_type": "stream",
     "text": [
      "[False, False, False, True, True]\n"
     ]
    }
   ],
   "source": [
    "test_liked = [i>=4 for i in test_ratings]\n",
    "print(test_liked)"
   ]
  },
  {
   "cell_type": "markdown",
   "id": "4ecb1842",
   "metadata": {
    "papermill": {
     "duration": 0.007631,
     "end_time": "2022-09-07T15:46:05.513236",
     "exception": false,
     "start_time": "2022-09-07T15:46:05.505605",
     "status": "completed"
    },
    "tags": []
   },
   "source": [
    "In this question, you'll use this list comprehension to define a function `percentage_liked()` that takes one argument as input:\n",
    "- `ratings`: list of ratings that people gave to a movie, where each rating is a number between 1-5, inclusive\n",
    "\n",
    "We say someone liked the movie, if they gave a rating of either 4 or 5.  Your function should return the percentage of people who liked the movie.\n",
    "\n",
    "For instance, if we supply a value of `[1, 2, 3, 4, 5, 4, 5, 1]`, then 50% (4/8) of the people liked the movie, and the function should return `0.5`.\n",
    "\n",
    "Part of the function has already been completed for you.  You need only use `list_liked` to calculate `percentage_liked`."
   ]
  },
  {
   "cell_type": "code",
   "execution_count": 12,
   "id": "06707468",
   "metadata": {
    "execution": {
     "iopub.execute_input": "2022-09-07T15:46:05.530035Z",
     "iopub.status.busy": "2022-09-07T15:46:05.529622Z",
     "iopub.status.idle": "2022-09-07T15:46:05.538029Z",
     "shell.execute_reply": "2022-09-07T15:46:05.537243Z"
    },
    "papermill": {
     "duration": 0.019325,
     "end_time": "2022-09-07T15:46:05.540026",
     "exception": false,
     "start_time": "2022-09-07T15:46:05.520701",
     "status": "completed"
    },
    "tags": []
   },
   "outputs": [
    {
     "data": {
      "application/javascript": [
       "parent.postMessage({\"jupyterEvent\": \"custom.exercise_interaction\", \"data\": {\"outcomeType\": 1, \"valueTowardsCompletion\": 0.2, \"interactionType\": 1, \"questionType\": 2, \"questionId\": \"4_PercentageLiked\", \"learnToolsVersion\": \"0.3.4\", \"failureMessage\": \"\", \"exceptionClass\": \"\", \"trace\": \"\"}}, \"*\")"
      ],
      "text/plain": [
       "<IPython.core.display.Javascript object>"
      ]
     },
     "metadata": {},
     "output_type": "display_data"
    },
    {
     "data": {
      "text/markdown": [
       "<span style=\"color:#33cc33\">Correct</span>"
      ],
      "text/plain": [
       "Correct"
      ]
     },
     "metadata": {},
     "output_type": "display_data"
    }
   ],
   "source": [
    "\n",
    "def percentage_liked(ratings):\n",
    "    list_liked = [i>=4 for i in ratings]\n",
    "    # TODO: Complete the function\n",
    "    percentage_liked = list_liked.count(True)/len(list_liked)\n",
    "    return percentage_liked\n",
    "\n",
    "# Do not change: should return 0.5\n",
    "percentage_liked([1, 2, 3, 4, 5, 4, 5, 1])\n",
    "\n",
    "# Do not change: Check your answer\n",
    "q4.check()"
   ]
  },
  {
   "cell_type": "code",
   "execution_count": 13,
   "id": "4860ddc1",
   "metadata": {
    "execution": {
     "iopub.execute_input": "2022-09-07T15:46:05.557890Z",
     "iopub.status.busy": "2022-09-07T15:46:05.556928Z",
     "iopub.status.idle": "2022-09-07T15:46:05.568218Z",
     "shell.execute_reply": "2022-09-07T15:46:05.567117Z"
    },
    "papermill": {
     "duration": 0.022511,
     "end_time": "2022-09-07T15:46:05.570348",
     "exception": false,
     "start_time": "2022-09-07T15:46:05.547837",
     "status": "completed"
    },
    "tags": []
   },
   "outputs": [
    {
     "data": {
      "application/javascript": [
       "parent.postMessage({\"jupyterEvent\": \"custom.exercise_interaction\", \"data\": {\"interactionType\": 2, \"questionType\": 2, \"questionId\": \"4_PercentageLiked\", \"learnToolsVersion\": \"0.3.4\", \"valueTowardsCompletion\": 0.0, \"failureMessage\": \"\", \"exceptionClass\": \"\", \"trace\": \"\", \"outcomeType\": 4}}, \"*\")"
      ],
      "text/plain": [
       "<IPython.core.display.Javascript object>"
      ]
     },
     "metadata": {},
     "output_type": "display_data"
    },
    {
     "data": {
      "text/markdown": [
       "<span style=\"color:#3366cc\">Hint:</span> Remember that when we add booleans, it returns the total number of entries in the sum that are `True`."
      ],
      "text/plain": [
       "Hint: Remember that when we add booleans, it returns the total number of entries in the sum that are `True`."
      ]
     },
     "metadata": {},
     "output_type": "display_data"
    },
    {
     "data": {
      "application/javascript": [
       "parent.postMessage({\"jupyterEvent\": \"custom.exercise_interaction\", \"data\": {\"interactionType\": 3, \"questionType\": 2, \"questionId\": \"4_PercentageLiked\", \"learnToolsVersion\": \"0.3.4\", \"valueTowardsCompletion\": 0.0, \"failureMessage\": \"\", \"exceptionClass\": \"\", \"trace\": \"\", \"outcomeType\": 4}}, \"*\")"
      ],
      "text/plain": [
       "<IPython.core.display.Javascript object>"
      ]
     },
     "metadata": {},
     "output_type": "display_data"
    },
    {
     "data": {
      "text/markdown": [
       "<span style=\"color:#33cc99\">Solution:</span> \n",
       "```python\n",
       "\n",
       "# Complete the function\n",
       "def percentage_liked(ratings):\n",
       "    list_liked = [i >= 4 for i in ratings]\n",
       "    percentage_liked = sum(list_liked)/len(list_liked)\n",
       "    return percentage_liked\n",
       "\n",
       "```"
      ],
      "text/plain": [
       "Solution: \n",
       "```python\n",
       "\n",
       "# Complete the function\n",
       "def percentage_liked(ratings):\n",
       "    list_liked = [i >= 4 for i in ratings]\n",
       "    percentage_liked = sum(list_liked)/len(list_liked)\n",
       "    return percentage_liked\n",
       "\n",
       "```"
      ]
     },
     "metadata": {},
     "output_type": "display_data"
    }
   ],
   "source": [
    "# Uncomment to see a hint\n",
    "q4.hint()\n",
    "\n",
    "# Uncomment to see the solution\n",
    "q4.solution()"
   ]
  },
  {
   "cell_type": "markdown",
   "id": "944cea28",
   "metadata": {
    "papermill": {
     "duration": 0.008523,
     "end_time": "2022-09-07T15:46:05.587316",
     "exception": false,
     "start_time": "2022-09-07T15:46:05.578793",
     "status": "completed"
    },
    "tags": []
   },
   "source": [
    "# 🌶️ Question 5\n",
    " \n",
    "Say you're doing analytics for a website.  You need to write a function that returns the percentage growth in the total number of users relative to a specified number of years ago.\n",
    "\n",
    "Your function `percentage_growth()` should take two arguments as input:\n",
    "- `num_users` = Python list with the total number of users each year.  So `num_users[0]` is the total number of users in the first year, `num_users[1]` is the total number of users in the second year, and so on.  The final entry in the list gives the total number of users in the most recently completed year.\n",
    "- `yrs_ago` = number of years to go back in time when calculating the growth percentage\n",
    "\n",
    "For instance, say `num_users = [920344, 1043553, 1204334, 1458996, 1503323, 1593432, 1623463, 1843064, 1930992, 2001078]`.\n",
    "- if `yrs_ago = 1`, we want the function to return a value of about `0.036`. This corresponds to a percentage growth of approximately 3.6%, calculated as (2001078 - 1930992)/1930992.\n",
    "- if `years_ago = 7`, we would want to return approximately `0.66`.  This corresponds to a percentage growth of approximately 66%, calculated as (2001078 - 1204334)/1204334.\n",
    "\n",
    "Your coworker sent you a draft of a function, but it doesn't seem to be doing the correct calculation.  Can you figure out what has gone wrong and make the needed changes?"
   ]
  },
  {
   "cell_type": "code",
   "execution_count": 14,
   "id": "473ddbaf",
   "metadata": {
    "execution": {
     "iopub.execute_input": "2022-09-07T15:46:05.606668Z",
     "iopub.status.busy": "2022-09-07T15:46:05.605638Z",
     "iopub.status.idle": "2022-09-07T15:46:05.617185Z",
     "shell.execute_reply": "2022-09-07T15:46:05.616427Z"
    },
    "papermill": {
     "duration": 0.023057,
     "end_time": "2022-09-07T15:46:05.619159",
     "exception": false,
     "start_time": "2022-09-07T15:46:05.596102",
     "status": "completed"
    },
    "tags": []
   },
   "outputs": [
    {
     "name": "stdout",
     "output_type": "stream",
     "text": [
      "0.03629533421163837\n",
      "0.6615639847417742\n"
     ]
    },
    {
     "data": {
      "application/javascript": [
       "parent.postMessage({\"jupyterEvent\": \"custom.exercise_interaction\", \"data\": {\"outcomeType\": 1, \"valueTowardsCompletion\": 0.2, \"interactionType\": 1, \"questionType\": 2, \"questionId\": \"5_WebsiteAnalytics\", \"learnToolsVersion\": \"0.3.4\", \"failureMessage\": \"\", \"exceptionClass\": \"\", \"trace\": \"\"}}, \"*\")"
      ],
      "text/plain": [
       "<IPython.core.display.Javascript object>"
      ]
     },
     "metadata": {},
     "output_type": "display_data"
    },
    {
     "data": {
      "text/markdown": [
       "<span style=\"color:#33cc33\">Correct</span>"
      ],
      "text/plain": [
       "Correct"
      ]
     },
     "metadata": {},
     "output_type": "display_data"
    }
   ],
   "source": [
    "# TODO: Edit the function\n",
    "def percentage_growth(num_users, yrs_ago):\n",
    "    growth = (num_users[len(num_users)-1] - num_users[len(num_users)-1-yrs_ago])/num_users[len(num_users)-1-yrs_ago]\n",
    "    return growth\n",
    "\n",
    "# Do not change: Variable for calculating some test examples\n",
    "num_users_test = [920344, 1043553, 1204334, 1458996, 1503323, 1593432, 1623463, 1843064, 1930992, 2001078]\n",
    "\n",
    "# Do not change: Should return .036\n",
    "print(percentage_growth(num_users_test, 1))\n",
    "\n",
    "# Do not change: Should return 0.66\n",
    "print(percentage_growth(num_users_test, 7))\n",
    "\n",
    "# Do not change: Check your answer\n",
    "q5.check()"
   ]
  },
  {
   "cell_type": "code",
   "execution_count": 15,
   "id": "c4eaed82",
   "metadata": {
    "execution": {
     "iopub.execute_input": "2022-09-07T15:46:05.638937Z",
     "iopub.status.busy": "2022-09-07T15:46:05.637907Z",
     "iopub.status.idle": "2022-09-07T15:46:05.649492Z",
     "shell.execute_reply": "2022-09-07T15:46:05.648502Z"
    },
    "papermill": {
     "duration": 0.023532,
     "end_time": "2022-09-07T15:46:05.651577",
     "exception": false,
     "start_time": "2022-09-07T15:46:05.628045",
     "status": "completed"
    },
    "tags": []
   },
   "outputs": [
    {
     "data": {
      "application/javascript": [
       "parent.postMessage({\"jupyterEvent\": \"custom.exercise_interaction\", \"data\": {\"interactionType\": 2, \"questionType\": 2, \"questionId\": \"5_WebsiteAnalytics\", \"learnToolsVersion\": \"0.3.4\", \"valueTowardsCompletion\": 0.0, \"failureMessage\": \"\", \"exceptionClass\": \"\", \"trace\": \"\", \"outcomeType\": 4}}, \"*\")"
      ],
      "text/plain": [
       "<IPython.core.display.Javascript object>"
      ]
     },
     "metadata": {},
     "output_type": "display_data"
    },
    {
     "data": {
      "text/markdown": [
       "<span style=\"color:#3366cc\">Hint:</span> It's already correct that you need to subtract two numbers from the list, before dividing by an item in the list. You only need to modify the positions for the items that are pulled from the list. \n",
       "\n",
       "In order to pull the final entry in the `num_users` list, you would need to use `num_users[len(num_users)-1]`.  This corresponds to the number of users in the most recently completed year.  \n",
       "\n",
       "Then, to get the number of users from one year prior, you should use `num_users[len(num_users)-2]`.  \n",
       "\n",
       "To get the number of users from `yrs_ago` years ago, use `num_users[len(num_users)-yrs_ago-1]`."
      ],
      "text/plain": [
       "Hint: It's already correct that you need to subtract two numbers from the list, before dividing by an item in the list. You only need to modify the positions for the items that are pulled from the list. \n",
       "\n",
       "In order to pull the final entry in the `num_users` list, you would need to use `num_users[len(num_users)-1]`.  This corresponds to the number of users in the most recently completed year.  \n",
       "\n",
       "Then, to get the number of users from one year prior, you should use `num_users[len(num_users)-2]`.  \n",
       "\n",
       "To get the number of users from `yrs_ago` years ago, use `num_users[len(num_users)-yrs_ago-1]`."
      ]
     },
     "metadata": {},
     "output_type": "display_data"
    },
    {
     "data": {
      "application/javascript": [
       "parent.postMessage({\"jupyterEvent\": \"custom.exercise_interaction\", \"data\": {\"interactionType\": 3, \"questionType\": 2, \"questionId\": \"5_WebsiteAnalytics\", \"learnToolsVersion\": \"0.3.4\", \"valueTowardsCompletion\": 0.0, \"failureMessage\": \"\", \"exceptionClass\": \"\", \"trace\": \"\", \"outcomeType\": 4}}, \"*\")"
      ],
      "text/plain": [
       "<IPython.core.display.Javascript object>"
      ]
     },
     "metadata": {},
     "output_type": "display_data"
    },
    {
     "data": {
      "text/markdown": [
       "<span style=\"color:#33cc99\">Solution:</span> \n",
       "```python\n",
       "def percentage_growth(num_users, yrs_ago):\n",
       "    growth = (num_users[len(num_users)-1] - num_users[len(num_users)-yrs_ago-1])/num_users[len(num_users)-yrs_ago-1]\n",
       "    return growth\n",
       "\n",
       "```"
      ],
      "text/plain": [
       "Solution: \n",
       "```python\n",
       "def percentage_growth(num_users, yrs_ago):\n",
       "    growth = (num_users[len(num_users)-1] - num_users[len(num_users)-yrs_ago-1])/num_users[len(num_users)-yrs_ago-1]\n",
       "    return growth\n",
       "\n",
       "```"
      ]
     },
     "metadata": {},
     "output_type": "display_data"
    }
   ],
   "source": [
    "# Uncomment to see a hint\n",
    "q5.hint()\n",
    "\n",
    "# Uncomment to see the solution\n",
    "q5.solution()"
   ]
  },
  {
   "cell_type": "markdown",
   "id": "7287e5dc",
   "metadata": {
    "papermill": {
     "duration": 0.008963,
     "end_time": "2022-09-07T15:46:05.669757",
     "exception": false,
     "start_time": "2022-09-07T15:46:05.660794",
     "status": "completed"
    },
    "tags": []
   },
   "source": [
    "# Congratulations!\n",
    "\n",
    "Congratulations for finishing the Intro to Programming course!  You should be proud of your very first steps with learning programming.  As next steps, we recommend taking:\n",
    "- the **[Python course](http://www.kaggle.com/learn/python)**, and \n",
    "- the **[Intro to Machine Learning course](https://www.kaggle.com/learn/intro-to-machine-learning)**."
   ]
  },
  {
   "cell_type": "markdown",
   "id": "e3314283",
   "metadata": {
    "papermill": {
     "duration": 0.00882,
     "end_time": "2022-09-07T15:46:05.687889",
     "exception": false,
     "start_time": "2022-09-07T15:46:05.679069",
     "status": "completed"
    },
    "tags": []
   },
   "source": [
    "---\n",
    "\n",
    "\n",
    "\n",
    "\n",
    "*Have questions or comments? Visit the [course discussion forum](https://www.kaggle.com/learn/intro-to-programming/discussion) to chat with other learners.*"
   ]
  },
  {
   "cell_type": "code",
   "execution_count": null,
   "id": "7d549375",
   "metadata": {
    "papermill": {
     "duration": 0.008694,
     "end_time": "2022-09-07T15:46:05.705787",
     "exception": false,
     "start_time": "2022-09-07T15:46:05.697093",
     "status": "completed"
    },
    "tags": []
   },
   "outputs": [],
   "source": []
  }
 ],
 "metadata": {
  "kernelspec": {
   "display_name": "Python 3",
   "language": "python",
   "name": "python3"
  },
  "language_info": {
   "codemirror_mode": {
    "name": "ipython",
    "version": 3
   },
   "file_extension": ".py",
   "mimetype": "text/x-python",
   "name": "python",
   "nbconvert_exporter": "python",
   "pygments_lexer": "ipython3",
   "version": "3.7.12"
  },
  "papermill": {
   "default_parameters": {},
   "duration": 10.80576,
   "end_time": "2022-09-07T15:46:06.335857",
   "environment_variables": {},
   "exception": null,
   "input_path": "__notebook__.ipynb",
   "output_path": "__notebook__.ipynb",
   "parameters": {},
   "start_time": "2022-09-07T15:45:55.530097",
   "version": "2.3.4"
  }
 },
 "nbformat": 4,
 "nbformat_minor": 5
}
